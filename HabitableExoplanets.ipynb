{
 "cells": [
  {
   "cell_type": "code",
   "execution_count": 134,
   "id": "fd4fabb4-bcbf-4a0b-b83f-17da0a78a4b3",
   "metadata": {},
   "outputs": [],
   "source": [
    "import pandas as pd\n",
    "import matplotlib.pyplot as plt\n",
    "import math\n",
    "import numpy as np\n",
    "from scipy.optimize import curve_fit"
   ]
  },
  {
   "cell_type": "markdown",
   "id": "70aa4b29-03b9-4335-9619-bf4c4fe2107d",
   "metadata": {},
   "source": [
    "# **<u>Searching for habitable exoplanets</u>**"
   ]
  },
  {
   "cell_type": "markdown",
   "id": "f9ac2284-ede9-4566-9a8d-2cbaf371c805",
   "metadata": {},
   "source": [
    "Candidate number: 24182"
   ]
  },
  {
   "cell_type": "markdown",
   "id": "1285fd68-64d2-4dd0-b540-dc4204ddaca1",
   "metadata": {},
   "source": [
    "## **<u>Introduction</u>**\n",
    "\n",
    "The dataset used in this notebook is from the [NASA exoplanet archive](https://exoplanetarchive.ipac.caltech.edu). Planets are considered ‘habitable’ if liquid water could exist on their surface. At temperatures greater than 100°C, water boils. At temperatures below 0°C, water freezes. This means for a planet to be deemed 'habitable', it must have a surface temperature between 0°C and 100°C, which in kelvin is between 273.15K and 373.15K. In this report, estimates of the surface temperature of each planet are calculated, identifying them as either ‘habitable’ or ‘not habitable’. The distance modulus equation is used to determine how far the exoplanets are from Earth on a logarithmic scale. This value is used to obtain a luminosity, which is used to find the tempertaure of the star. With these constants a value for the surface temperature can be estimated."
   ]
  },
  {
   "cell_type": "markdown",
   "id": "7d45baeb-23c9-4215-bd6b-a9c7eb814da8",
   "metadata": {
    "tags": []
   },
   "source": [
    "## **<u>Data description and analysis</u>**\n",
    "\n",
    "The following analysis uses the datasets: *exoplanet_data_2021* and *exoplanet_hosts_2021*. which contain original, raw data."
   ]
  },
  {
   "cell_type": "code",
   "execution_count": 135,
   "id": "33b985f5-8da3-49d7-9f75-56aec9eb1ba5",
   "metadata": {},
   "outputs": [],
   "source": [
    "exo_data = pd.read_csv ('exoplanet_data_2021.csv')\n",
    "exo_hosts = pd.read_csv ('exoplanet_hosts_2021.csv')"
   ]
  },
  {
   "cell_type": "markdown",
   "id": "c0faf92e-f6f1-4047-87e0-1c2f13200f5e",
   "metadata": {},
   "source": [
    "exoplanet_data_2021.csv: Columns (from left to right) are: planet name, host star name, planet orbital period (days), semi-major axis (AU), inclination (degrees), orbital eccentricity, planet mass (Earth masses), planet radius (Earth radii)."
   ]
  },
  {
   "cell_type": "markdown",
   "id": "202237e6-6e97-455d-8382-0752aaf33700",
   "metadata": {},
   "source": [
    "exoplanet_hosts_2021.csv: Columns (from left to right) are: host star name, Right Ascension (degrees), Declination (degrees), star age (109 years), star mass (solar masses), star radius (solar radii), distance from Earth (parsecs), apparent G-band magnitude (mags)."
   ]
  },
  {
   "cell_type": "code",
   "execution_count": 136,
   "id": "379dfae3-87d1-4aa0-86ff-d941f7fb9353",
   "metadata": {},
   "outputs": [
    {
     "data": {
      "text/html": [
       "<div>\n",
       "<style scoped>\n",
       "    .dataframe tbody tr th:only-of-type {\n",
       "        vertical-align: middle;\n",
       "    }\n",
       "\n",
       "    .dataframe tbody tr th {\n",
       "        vertical-align: top;\n",
       "    }\n",
       "\n",
       "    .dataframe thead th {\n",
       "        text-align: right;\n",
       "    }\n",
       "</style>\n",
       "<table border=\"1\" class=\"dataframe\">\n",
       "  <thead>\n",
       "    <tr style=\"text-align: right;\">\n",
       "      <th></th>\n",
       "      <th>pl_name</th>\n",
       "      <th>hostname</th>\n",
       "      <th>pl_orbper</th>\n",
       "      <th>pl_orbsmax</th>\n",
       "      <th>pl_orbincl</th>\n",
       "      <th>pl_orbeccen</th>\n",
       "      <th>pl_bmasse</th>\n",
       "      <th>pl_rade</th>\n",
       "    </tr>\n",
       "  </thead>\n",
       "  <tbody>\n",
       "    <tr>\n",
       "      <th>0</th>\n",
       "      <td>11 UMi b</td>\n",
       "      <td>11 UMi</td>\n",
       "      <td>516.220</td>\n",
       "      <td>1.53</td>\n",
       "      <td>NaN</td>\n",
       "      <td>0.080</td>\n",
       "      <td>4684.814</td>\n",
       "      <td>12.3</td>\n",
       "    </tr>\n",
       "    <tr>\n",
       "      <th>1</th>\n",
       "      <td>14 And b</td>\n",
       "      <td>14 And</td>\n",
       "      <td>185.840</td>\n",
       "      <td>0.83</td>\n",
       "      <td>NaN</td>\n",
       "      <td>0.000</td>\n",
       "      <td>1525.500</td>\n",
       "      <td>12.9</td>\n",
       "    </tr>\n",
       "    <tr>\n",
       "      <th>2</th>\n",
       "      <td>14 Her b</td>\n",
       "      <td>14 Her</td>\n",
       "      <td>1773.400</td>\n",
       "      <td>2.93</td>\n",
       "      <td>NaN</td>\n",
       "      <td>0.370</td>\n",
       "      <td>1481.088</td>\n",
       "      <td>12.9</td>\n",
       "    </tr>\n",
       "    <tr>\n",
       "      <th>3</th>\n",
       "      <td>17 Sco b</td>\n",
       "      <td>17 Sco</td>\n",
       "      <td>578.380</td>\n",
       "      <td>1.45</td>\n",
       "      <td>NaN</td>\n",
       "      <td>0.060</td>\n",
       "      <td>1373.019</td>\n",
       "      <td>12.9</td>\n",
       "    </tr>\n",
       "    <tr>\n",
       "      <th>4</th>\n",
       "      <td>24 Boo b</td>\n",
       "      <td>24 Boo</td>\n",
       "      <td>30.351</td>\n",
       "      <td>0.19</td>\n",
       "      <td>NaN</td>\n",
       "      <td>0.042</td>\n",
       "      <td>289.225</td>\n",
       "      <td>13.9</td>\n",
       "    </tr>\n",
       "  </tbody>\n",
       "</table>\n",
       "</div>"
      ],
      "text/plain": [
       "    pl_name hostname  pl_orbper  pl_orbsmax  pl_orbincl  pl_orbeccen  \\\n",
       "0  11 UMi b   11 UMi    516.220        1.53         NaN        0.080   \n",
       "1  14 And b   14 And    185.840        0.83         NaN        0.000   \n",
       "2  14 Her b   14 Her   1773.400        2.93         NaN        0.370   \n",
       "3  17 Sco b   17 Sco    578.380        1.45         NaN        0.060   \n",
       "4  24 Boo b   24 Boo     30.351        0.19         NaN        0.042   \n",
       "\n",
       "   pl_bmasse  pl_rade  \n",
       "0   4684.814     12.3  \n",
       "1   1525.500     12.9  \n",
       "2   1481.088     12.9  \n",
       "3   1373.019     12.9  \n",
       "4    289.225     13.9  "
      ]
     },
     "execution_count": 136,
     "metadata": {},
     "output_type": "execute_result"
    }
   ],
   "source": [
    "exo_data.head() #.head() displays first n rows of data - ensures data is of correct type before proceeding."
   ]
  },
  {
   "cell_type": "code",
   "execution_count": 137,
   "id": "d202ff2b-917f-4ce3-981b-3fd9576ca64b",
   "metadata": {},
   "outputs": [
    {
     "data": {
      "text/html": [
       "<div>\n",
       "<style scoped>\n",
       "    .dataframe tbody tr th:only-of-type {\n",
       "        vertical-align: middle;\n",
       "    }\n",
       "\n",
       "    .dataframe tbody tr th {\n",
       "        vertical-align: top;\n",
       "    }\n",
       "\n",
       "    .dataframe thead th {\n",
       "        text-align: right;\n",
       "    }\n",
       "</style>\n",
       "<table border=\"1\" class=\"dataframe\">\n",
       "  <thead>\n",
       "    <tr style=\"text-align: right;\">\n",
       "      <th></th>\n",
       "      <th>hostname</th>\n",
       "      <th>ra</th>\n",
       "      <th>dec</th>\n",
       "      <th>st_age</th>\n",
       "      <th>st_mass</th>\n",
       "      <th>st_rad</th>\n",
       "      <th>sy_dist</th>\n",
       "      <th>sy_gaiamag</th>\n",
       "    </tr>\n",
       "  </thead>\n",
       "  <tbody>\n",
       "    <tr>\n",
       "      <th>0</th>\n",
       "      <td>11 UMi</td>\n",
       "      <td>229.274595</td>\n",
       "      <td>71.823943</td>\n",
       "      <td>1.56</td>\n",
       "      <td>2.78</td>\n",
       "      <td>29.79</td>\n",
       "      <td>125.3210</td>\n",
       "      <td>4.56216</td>\n",
       "    </tr>\n",
       "    <tr>\n",
       "      <th>1</th>\n",
       "      <td>14 And</td>\n",
       "      <td>352.824150</td>\n",
       "      <td>39.235837</td>\n",
       "      <td>4.50</td>\n",
       "      <td>2.20</td>\n",
       "      <td>11.00</td>\n",
       "      <td>75.4392</td>\n",
       "      <td>4.91781</td>\n",
       "    </tr>\n",
       "    <tr>\n",
       "      <th>2</th>\n",
       "      <td>14 Her</td>\n",
       "      <td>242.602101</td>\n",
       "      <td>43.816362</td>\n",
       "      <td>3.90</td>\n",
       "      <td>0.90</td>\n",
       "      <td>0.93</td>\n",
       "      <td>17.9323</td>\n",
       "      <td>6.38300</td>\n",
       "    </tr>\n",
       "    <tr>\n",
       "      <th>3</th>\n",
       "      <td>17 Sco</td>\n",
       "      <td>243.462087</td>\n",
       "      <td>-11.837791</td>\n",
       "      <td>5.13</td>\n",
       "      <td>1.22</td>\n",
       "      <td>25.92</td>\n",
       "      <td>124.9530</td>\n",
       "      <td>4.75429</td>\n",
       "    </tr>\n",
       "    <tr>\n",
       "      <th>4</th>\n",
       "      <td>24 Boo</td>\n",
       "      <td>217.155524</td>\n",
       "      <td>49.844649</td>\n",
       "      <td>6.92</td>\n",
       "      <td>0.99</td>\n",
       "      <td>10.64</td>\n",
       "      <td>95.9863</td>\n",
       "      <td>5.33390</td>\n",
       "    </tr>\n",
       "  </tbody>\n",
       "</table>\n",
       "</div>"
      ],
      "text/plain": [
       "  hostname          ra        dec  st_age  st_mass  st_rad   sy_dist  \\\n",
       "0   11 UMi  229.274595  71.823943    1.56     2.78   29.79  125.3210   \n",
       "1   14 And  352.824150  39.235837    4.50     2.20   11.00   75.4392   \n",
       "2   14 Her  242.602101  43.816362    3.90     0.90    0.93   17.9323   \n",
       "3   17 Sco  243.462087 -11.837791    5.13     1.22   25.92  124.9530   \n",
       "4   24 Boo  217.155524  49.844649    6.92     0.99   10.64   95.9863   \n",
       "\n",
       "   sy_gaiamag  \n",
       "0     4.56216  \n",
       "1     4.91781  \n",
       "2     6.38300  \n",
       "3     4.75429  \n",
       "4     5.33390  "
      ]
     },
     "execution_count": 137,
     "metadata": {},
     "output_type": "execute_result"
    }
   ],
   "source": [
    "exo_hosts.head() "
   ]
  },
  {
   "cell_type": "markdown",
   "id": "b954421f",
   "metadata": {},
   "source": [
    "Ensuring data looks how it is expected to look before proceeding with analysis."
   ]
  },
  {
   "cell_type": "code",
   "execution_count": 138,
   "id": "50be3e0b-1fef-4391-9a3c-57639e3e6a08",
   "metadata": {},
   "outputs": [],
   "source": [
    "merged_data = pd.merge (left = exo_data, right = exo_hosts, on = 'hostname', how='left')\n",
    "merged_data = merged_data [merged_data['pl_orbper'].notna()]"
   ]
  },
  {
   "cell_type": "markdown",
   "id": "2d39aa9e-15a0-46ff-afe8-12346d078794",
   "metadata": {},
   "source": [
    "Here the data sets are being combined so a histogram can be made. Any planets that do not have a value for the planet’s orbital period have been removed - data has been 'cleaned'."
   ]
  },
  {
   "cell_type": "code",
   "execution_count": 139,
   "id": "d3f62952-75e8-4842-a339-ae2eb3813e6d",
   "metadata": {},
   "outputs": [
    {
     "data": {
      "text/html": [
       "<div>\n",
       "<style scoped>\n",
       "    .dataframe tbody tr th:only-of-type {\n",
       "        vertical-align: middle;\n",
       "    }\n",
       "\n",
       "    .dataframe tbody tr th {\n",
       "        vertical-align: top;\n",
       "    }\n",
       "\n",
       "    .dataframe thead th {\n",
       "        text-align: right;\n",
       "    }\n",
       "</style>\n",
       "<table border=\"1\" class=\"dataframe\">\n",
       "  <thead>\n",
       "    <tr style=\"text-align: right;\">\n",
       "      <th></th>\n",
       "      <th>pl_name</th>\n",
       "      <th>hostname</th>\n",
       "      <th>pl_orbper</th>\n",
       "      <th>pl_orbsmax</th>\n",
       "      <th>pl_orbincl</th>\n",
       "      <th>pl_orbeccen</th>\n",
       "      <th>pl_bmasse</th>\n",
       "      <th>pl_rade</th>\n",
       "      <th>ra</th>\n",
       "      <th>dec</th>\n",
       "      <th>st_age</th>\n",
       "      <th>st_mass</th>\n",
       "      <th>st_rad</th>\n",
       "      <th>sy_dist</th>\n",
       "      <th>sy_gaiamag</th>\n",
       "    </tr>\n",
       "  </thead>\n",
       "  <tbody>\n",
       "    <tr>\n",
       "      <th>0</th>\n",
       "      <td>11 UMi b</td>\n",
       "      <td>11 UMi</td>\n",
       "      <td>516.220</td>\n",
       "      <td>1.530</td>\n",
       "      <td>NaN</td>\n",
       "      <td>0.080</td>\n",
       "      <td>4684.814</td>\n",
       "      <td>12.30</td>\n",
       "      <td>229.274595</td>\n",
       "      <td>71.823943</td>\n",
       "      <td>1.56</td>\n",
       "      <td>2.78</td>\n",
       "      <td>29.79</td>\n",
       "      <td>125.32100</td>\n",
       "      <td>4.56216</td>\n",
       "    </tr>\n",
       "    <tr>\n",
       "      <th>1</th>\n",
       "      <td>14 And b</td>\n",
       "      <td>14 And</td>\n",
       "      <td>185.840</td>\n",
       "      <td>0.830</td>\n",
       "      <td>NaN</td>\n",
       "      <td>0.000</td>\n",
       "      <td>1525.500</td>\n",
       "      <td>12.90</td>\n",
       "      <td>352.824150</td>\n",
       "      <td>39.235837</td>\n",
       "      <td>4.50</td>\n",
       "      <td>2.20</td>\n",
       "      <td>11.00</td>\n",
       "      <td>75.43920</td>\n",
       "      <td>4.91781</td>\n",
       "    </tr>\n",
       "    <tr>\n",
       "      <th>2</th>\n",
       "      <td>14 Her b</td>\n",
       "      <td>14 Her</td>\n",
       "      <td>1773.400</td>\n",
       "      <td>2.930</td>\n",
       "      <td>NaN</td>\n",
       "      <td>0.370</td>\n",
       "      <td>1481.088</td>\n",
       "      <td>12.90</td>\n",
       "      <td>242.602101</td>\n",
       "      <td>43.816362</td>\n",
       "      <td>3.90</td>\n",
       "      <td>0.90</td>\n",
       "      <td>0.93</td>\n",
       "      <td>17.93230</td>\n",
       "      <td>6.38300</td>\n",
       "    </tr>\n",
       "    <tr>\n",
       "      <th>3</th>\n",
       "      <td>17 Sco b</td>\n",
       "      <td>17 Sco</td>\n",
       "      <td>578.380</td>\n",
       "      <td>1.450</td>\n",
       "      <td>NaN</td>\n",
       "      <td>0.060</td>\n",
       "      <td>1373.019</td>\n",
       "      <td>12.90</td>\n",
       "      <td>243.462087</td>\n",
       "      <td>-11.837791</td>\n",
       "      <td>5.13</td>\n",
       "      <td>1.22</td>\n",
       "      <td>25.92</td>\n",
       "      <td>124.95300</td>\n",
       "      <td>4.75429</td>\n",
       "    </tr>\n",
       "    <tr>\n",
       "      <th>4</th>\n",
       "      <td>24 Boo b</td>\n",
       "      <td>24 Boo</td>\n",
       "      <td>30.351</td>\n",
       "      <td>0.190</td>\n",
       "      <td>NaN</td>\n",
       "      <td>0.042</td>\n",
       "      <td>289.225</td>\n",
       "      <td>13.90</td>\n",
       "      <td>217.155524</td>\n",
       "      <td>49.844649</td>\n",
       "      <td>6.92</td>\n",
       "      <td>0.99</td>\n",
       "      <td>10.64</td>\n",
       "      <td>95.98630</td>\n",
       "      <td>5.33390</td>\n",
       "    </tr>\n",
       "    <tr>\n",
       "      <th>...</th>\n",
       "      <td>...</td>\n",
       "      <td>...</td>\n",
       "      <td>...</td>\n",
       "      <td>...</td>\n",
       "      <td>...</td>\n",
       "      <td>...</td>\n",
       "      <td>...</td>\n",
       "      <td>...</td>\n",
       "      <td>...</td>\n",
       "      <td>...</td>\n",
       "      <td>...</td>\n",
       "      <td>...</td>\n",
       "      <td>...</td>\n",
       "      <td>...</td>\n",
       "      <td>...</td>\n",
       "    </tr>\n",
       "    <tr>\n",
       "      <th>4039</th>\n",
       "      <td>tau Cet f</td>\n",
       "      <td>tau Cet</td>\n",
       "      <td>636.130</td>\n",
       "      <td>1.334</td>\n",
       "      <td>NaN</td>\n",
       "      <td>0.160</td>\n",
       "      <td>3.930</td>\n",
       "      <td>1.81</td>\n",
       "      <td>26.009303</td>\n",
       "      <td>-15.933799</td>\n",
       "      <td>12.12</td>\n",
       "      <td>0.78</td>\n",
       "      <td>0.83</td>\n",
       "      <td>3.60304</td>\n",
       "      <td>3.24854</td>\n",
       "    </tr>\n",
       "    <tr>\n",
       "      <th>4040</th>\n",
       "      <td>tau Cet g</td>\n",
       "      <td>tau Cet</td>\n",
       "      <td>20.000</td>\n",
       "      <td>0.133</td>\n",
       "      <td>NaN</td>\n",
       "      <td>0.060</td>\n",
       "      <td>1.750</td>\n",
       "      <td>1.18</td>\n",
       "      <td>26.009303</td>\n",
       "      <td>-15.933799</td>\n",
       "      <td>12.12</td>\n",
       "      <td>0.78</td>\n",
       "      <td>0.83</td>\n",
       "      <td>3.60304</td>\n",
       "      <td>3.24854</td>\n",
       "    </tr>\n",
       "    <tr>\n",
       "      <th>4041</th>\n",
       "      <td>tau Cet h</td>\n",
       "      <td>tau Cet</td>\n",
       "      <td>49.410</td>\n",
       "      <td>0.243</td>\n",
       "      <td>NaN</td>\n",
       "      <td>0.230</td>\n",
       "      <td>1.830</td>\n",
       "      <td>1.19</td>\n",
       "      <td>26.009303</td>\n",
       "      <td>-15.933799</td>\n",
       "      <td>12.12</td>\n",
       "      <td>0.78</td>\n",
       "      <td>0.83</td>\n",
       "      <td>3.60304</td>\n",
       "      <td>3.24854</td>\n",
       "    </tr>\n",
       "    <tr>\n",
       "      <th>4042</th>\n",
       "      <td>tau Gem b</td>\n",
       "      <td>tau Gem</td>\n",
       "      <td>305.500</td>\n",
       "      <td>1.170</td>\n",
       "      <td>NaN</td>\n",
       "      <td>0.031</td>\n",
       "      <td>6547.000</td>\n",
       "      <td>12.10</td>\n",
       "      <td>107.784723</td>\n",
       "      <td>30.244954</td>\n",
       "      <td>1.22</td>\n",
       "      <td>2.30</td>\n",
       "      <td>26.80</td>\n",
       "      <td>112.53700</td>\n",
       "      <td>4.03996</td>\n",
       "    </tr>\n",
       "    <tr>\n",
       "      <th>4043</th>\n",
       "      <td>xi Aql b</td>\n",
       "      <td>xi Aql</td>\n",
       "      <td>136.750</td>\n",
       "      <td>0.680</td>\n",
       "      <td>NaN</td>\n",
       "      <td>0.000</td>\n",
       "      <td>890.000</td>\n",
       "      <td>13.20</td>\n",
       "      <td>298.562449</td>\n",
       "      <td>8.461105</td>\n",
       "      <td>7.10</td>\n",
       "      <td>2.20</td>\n",
       "      <td>12.00</td>\n",
       "      <td>56.18580</td>\n",
       "      <td>4.42501</td>\n",
       "    </tr>\n",
       "  </tbody>\n",
       "</table>\n",
       "<p>3936 rows × 15 columns</p>\n",
       "</div>"
      ],
      "text/plain": [
       "        pl_name hostname  pl_orbper  pl_orbsmax  pl_orbincl  pl_orbeccen  \\\n",
       "0      11 UMi b   11 UMi    516.220       1.530         NaN        0.080   \n",
       "1      14 And b   14 And    185.840       0.830         NaN        0.000   \n",
       "2      14 Her b   14 Her   1773.400       2.930         NaN        0.370   \n",
       "3      17 Sco b   17 Sco    578.380       1.450         NaN        0.060   \n",
       "4      24 Boo b   24 Boo     30.351       0.190         NaN        0.042   \n",
       "...         ...      ...        ...         ...         ...          ...   \n",
       "4039  tau Cet f  tau Cet    636.130       1.334         NaN        0.160   \n",
       "4040  tau Cet g  tau Cet     20.000       0.133         NaN        0.060   \n",
       "4041  tau Cet h  tau Cet     49.410       0.243         NaN        0.230   \n",
       "4042  tau Gem b  tau Gem    305.500       1.170         NaN        0.031   \n",
       "4043   xi Aql b   xi Aql    136.750       0.680         NaN        0.000   \n",
       "\n",
       "      pl_bmasse  pl_rade          ra        dec  st_age  st_mass  st_rad  \\\n",
       "0      4684.814    12.30  229.274595  71.823943    1.56     2.78   29.79   \n",
       "1      1525.500    12.90  352.824150  39.235837    4.50     2.20   11.00   \n",
       "2      1481.088    12.90  242.602101  43.816362    3.90     0.90    0.93   \n",
       "3      1373.019    12.90  243.462087 -11.837791    5.13     1.22   25.92   \n",
       "4       289.225    13.90  217.155524  49.844649    6.92     0.99   10.64   \n",
       "...         ...      ...         ...        ...     ...      ...     ...   \n",
       "4039      3.930     1.81   26.009303 -15.933799   12.12     0.78    0.83   \n",
       "4040      1.750     1.18   26.009303 -15.933799   12.12     0.78    0.83   \n",
       "4041      1.830     1.19   26.009303 -15.933799   12.12     0.78    0.83   \n",
       "4042   6547.000    12.10  107.784723  30.244954    1.22     2.30   26.80   \n",
       "4043    890.000    13.20  298.562449   8.461105    7.10     2.20   12.00   \n",
       "\n",
       "        sy_dist  sy_gaiamag  \n",
       "0     125.32100     4.56216  \n",
       "1      75.43920     4.91781  \n",
       "2      17.93230     6.38300  \n",
       "3     124.95300     4.75429  \n",
       "4      95.98630     5.33390  \n",
       "...         ...         ...  \n",
       "4039    3.60304     3.24854  \n",
       "4040    3.60304     3.24854  \n",
       "4041    3.60304     3.24854  \n",
       "4042  112.53700     4.03996  \n",
       "4043   56.18580     4.42501  \n",
       "\n",
       "[3936 rows x 15 columns]"
      ]
     },
     "execution_count": 139,
     "metadata": {},
     "output_type": "execute_result"
    }
   ],
   "source": [
    "merged_data"
   ]
  },
  {
   "cell_type": "markdown",
   "id": "50870e8d-8ec8-4ab3-a447-fa7444e1da53",
   "metadata": {},
   "source": [
    "Information on 15 variables is available in the `merged_data` dataframe. For this investigation we are focusing on the following variables:\n",
    "\n",
    "* pl_orbper\n",
    "* pl_orbsmax\n",
    "* pl_bmasse \n",
    "* st_mass\n",
    "* st_rad\n",
    "* sy_dist\n",
    "* sy_gaiamag"
   ]
  },
  {
   "cell_type": "markdown",
   "id": "1340ba46-02e7-4ac7-9cb4-743911e260b4",
   "metadata": {},
   "source": [
    "### **<u>Histogram that shows the distribution of orbital periods</u>**"
   ]
  },
  {
   "cell_type": "code",
   "execution_count": 140,
   "id": "186f09bc-11d9-45e3-937b-335466e2b0fb",
   "metadata": {},
   "outputs": [
    {
     "data": {
      "image/png": "[encoded data removed]",
      "text/plain": [
       "<Figure size 720x432 with 1 Axes>"
      ]
     },
     "metadata": {
      "needs_background": "light"
     },
     "output_type": "display_data"
    }
   ],
   "source": [
    "fig1 = plt.figure (figsize = (10,6) )\n",
    "axis = fig1.add_subplot(1, 1, 1)\n",
    "\n",
    "axis.hist (merged_data['pl_orbper'], bins = 35, color = 'green', edgecolor = 'black')\n",
    "\n",
    "axis.set_xlabel ('Orbital period / days')\n",
    "axis.set_ylabel ('Count')\n",
    "\n",
    "axis.set_yscale ('log')\n",
    "\n",
    "plt.show()"
   ]
  },
  {
   "cell_type": "markdown",
   "id": "c71f3efa-43d9-4360-acd4-428e55270a01",
   "metadata": {},
   "source": [
    "**Figure 1:** Distribution of orbital periods for all exoplanets in the 'merged_data' dataframe. This histogram shows the majority of exoplanets have an orbital period of less than 5000 days, with the average orbital period being ≈ 218 days."
   ]
  },
  {
   "cell_type": "code",
   "execution_count": 141,
   "id": "57051af7",
   "metadata": {},
   "outputs": [
    {
     "data": {
      "text/plain": [
       "217.5957693089436"
      ]
     },
     "execution_count": 141,
     "metadata": {},
     "output_type": "execute_result"
    }
   ],
   "source": [
    "merged_data['pl_orbper'].mean()"
   ]
  },
  {
   "cell_type": "markdown",
   "id": "939e9158",
   "metadata": {},
   "source": [
    "A logarithmic scale has been used on the y-axis since the data set is large. Some bands have a high 'Count', if data was on a linear scale this would make all smaller bands appear to have a negligible 'Count' - this is incorrect. Logarithmic scale makes the graph easier to read by displaying the trend more clearly."
   ]
  },
  {
   "cell_type": "markdown",
   "id": "1a6ff1ca-7a1a-4b8d-b08a-f2e5ad3e91e5",
   "metadata": {},
   "source": [
    "### <u>**Calculating the semi major axis for each star using Kepler's 3rd law**</u>"
   ]
  },
  {
   "cell_type": "markdown",
   "id": "cae6d3a7-4301-481d-b047-56bab789fc26",
   "metadata": {},
   "source": [
    "Kepler’s 3rd law relates the semi-major axis and period of a planet’s orbit to the masses of the planet and the star:"
   ]
  },
  {
   "cell_type": "markdown",
   "id": "7ab9282c-0774-46bc-b62f-3352af4658f0",
   "metadata": {},
   "source": [
    "$$\\frac{a^3}{T^2} = \\frac{G(M + m)}{4π^2} ≈ 1AU^3yr^-2$$"
   ]
  },
  {
   "cell_type": "markdown",
   "id": "c2f773d2-af4b-4843-b5b0-73ca57bd87db",
   "metadata": {},
   "source": [
    "Where *a* is the semi-major axis (in AU), *T* is the orbital period (in years), *G* is the gravitational constant, and *M* and *m* are the mass of the star and the planet, respectively (both in solar masses)."
   ]
  },
  {
   "cell_type": "code",
   "execution_count": 142,
   "id": "700a344a-f9df-4a6a-ab34-926922b5afcf",
   "metadata": {},
   "outputs": [],
   "source": [
    "G = 39.478 #AU3 yr−2 𝑀−1"
   ]
  },
  {
   "cell_type": "code",
   "execution_count": 143,
   "id": "c4486b9c-537a-46b0-9396-25fbe2dffbcf",
   "metadata": {},
   "outputs": [],
   "source": [
    "solar_mass = 1.988*(10**30) #kg"
   ]
  },
  {
   "cell_type": "code",
   "execution_count": 144,
   "id": "4b241fa6-3561-41ac-a87a-62b16e2c9fd4",
   "metadata": {},
   "outputs": [],
   "source": [
    "earth_mass = 5.972*(10**24) #kg"
   ]
  },
  {
   "cell_type": "markdown",
   "id": "ac3f4174-41fa-4e29-b987-847128fdd531",
   "metadata": {},
   "source": [
    "Defining the gravitational constant, solar mass and Earth mass."
   ]
  },
  {
   "cell_type": "markdown",
   "id": "c9815149",
   "metadata": {},
   "source": [
    "Function to find *a* for each planet:"
   ]
  },
  {
   "cell_type": "code",
   "execution_count": 145,
   "id": "a4faa0ad-6ce5-4821-be5d-3950d39f8269",
   "metadata": {},
   "outputs": [],
   "source": [
    "def semi_major_axis (planet_orbital_period, star_mass, planet_mass): #Function to find *a* for each planet. \n",
    "    \n",
    "    m = planet_mass * (earth_mass / solar_mass)\n",
    "    M = star_mass\n",
    "    T = planet_orbital_period/365.24\n",
    "    \n",
    "    a = np.cbrt(((T**2) * G * (M + m)) / (4 * (math.pi)**2))\n",
    "    return(a)"
   ]
  },
  {
   "cell_type": "markdown",
   "id": "f8c82baf-8362-4d5c-bd7c-b998b04cee47",
   "metadata": {},
   "source": [
    "Note that there are not ***exactly*** 365 days in 1 year on Earth."
   ]
  },
  {
   "cell_type": "code",
   "execution_count": 146,
   "id": "ba50a863-6c2c-47ab-857a-0c5c98c1b532",
   "metadata": {},
   "outputs": [],
   "source": [
    "merged_data['semi_major_axis'] = semi_major_axis (merged_data['pl_orbper'], merged_data['st_mass'], merged_data['pl_bmasse'])"
   ]
  },
  {
   "cell_type": "markdown",
   "id": "263889d8-7ad9-4ede-90a3-42bc53caf2e0",
   "metadata": {},
   "source": [
    "Semi major axis values for each exoplanet:"
   ]
  },
  {
   "cell_type": "code",
   "execution_count": 147,
   "id": "50aa7e14-882f-4877-ade1-6713b82724d8",
   "metadata": {},
   "outputs": [
    {
     "data": {
      "text/html": [
       "<div>\n",
       "<style scoped>\n",
       "    .dataframe tbody tr th:only-of-type {\n",
       "        vertical-align: middle;\n",
       "    }\n",
       "\n",
       "    .dataframe tbody tr th {\n",
       "        vertical-align: top;\n",
       "    }\n",
       "\n",
       "    .dataframe thead th {\n",
       "        text-align: right;\n",
       "    }\n",
       "</style>\n",
       "<table border=\"1\" class=\"dataframe\">\n",
       "  <thead>\n",
       "    <tr style=\"text-align: right;\">\n",
       "      <th></th>\n",
       "      <th>pl_name</th>\n",
       "      <th>semi_major_axis</th>\n",
       "    </tr>\n",
       "  </thead>\n",
       "  <tbody>\n",
       "    <tr>\n",
       "      <th>0</th>\n",
       "      <td>11 UMi b</td>\n",
       "      <td>1.773844</td>\n",
       "    </tr>\n",
       "    <tr>\n",
       "      <th>1</th>\n",
       "      <td>14 And b</td>\n",
       "      <td>0.829496</td>\n",
       "    </tr>\n",
       "    <tr>\n",
       "      <th>2</th>\n",
       "      <td>14 Her b</td>\n",
       "      <td>2.772972</td>\n",
       "    </tr>\n",
       "    <tr>\n",
       "      <th>3</th>\n",
       "      <td>17 Sco b</td>\n",
       "      <td>1.453328</td>\n",
       "    </tr>\n",
       "    <tr>\n",
       "      <th>4</th>\n",
       "      <td>24 Boo b</td>\n",
       "      <td>0.189845</td>\n",
       "    </tr>\n",
       "    <tr>\n",
       "      <th>...</th>\n",
       "      <td>...</td>\n",
       "      <td>...</td>\n",
       "    </tr>\n",
       "    <tr>\n",
       "      <th>4039</th>\n",
       "      <td>tau Cet f</td>\n",
       "      <td>1.332531</td>\n",
       "    </tr>\n",
       "    <tr>\n",
       "      <th>4040</th>\n",
       "      <td>tau Cet g</td>\n",
       "      <td>0.132739</td>\n",
       "    </tr>\n",
       "    <tr>\n",
       "      <th>4041</th>\n",
       "      <td>tau Cet h</td>\n",
       "      <td>0.242580</td>\n",
       "    </tr>\n",
       "    <tr>\n",
       "      <th>4042</th>\n",
       "      <td>tau Gem b</td>\n",
       "      <td>1.175156</td>\n",
       "    </tr>\n",
       "    <tr>\n",
       "      <th>4043</th>\n",
       "      <td>xi Aql b</td>\n",
       "      <td>0.675898</td>\n",
       "    </tr>\n",
       "  </tbody>\n",
       "</table>\n",
       "<p>3936 rows × 2 columns</p>\n",
       "</div>"
      ],
      "text/plain": [
       "        pl_name  semi_major_axis\n",
       "0      11 UMi b         1.773844\n",
       "1      14 And b         0.829496\n",
       "2      14 Her b         2.772972\n",
       "3      17 Sco b         1.453328\n",
       "4      24 Boo b         0.189845\n",
       "...         ...              ...\n",
       "4039  tau Cet f         1.332531\n",
       "4040  tau Cet g         0.132739\n",
       "4041  tau Cet h         0.242580\n",
       "4042  tau Gem b         1.175156\n",
       "4043   xi Aql b         0.675898\n",
       "\n",
       "[3936 rows x 2 columns]"
      ]
     },
     "execution_count": 147,
     "metadata": {},
     "output_type": "execute_result"
    }
   ],
   "source": [
    "merged_data[['pl_name', 'semi_major_axis']]"
   ]
  },
  {
   "cell_type": "markdown",
   "id": "aee06394-a744-4a35-80ef-9e2c0a327891",
   "metadata": {},
   "source": [
    "### <u>**ratio of the semi major axis**</u>"
   ]
  },
  {
   "cell_type": "markdown",
   "id": "6e66ff45-ffea-4376-9709-2afc787596b5",
   "metadata": {},
   "source": [
    "Comparison between the calculated values and the measured (given in the data) of the semi major axis is done by calculating the ratio of the measured and predicted values. The ratio taken is measured over predicted."
   ]
  },
  {
   "cell_type": "code",
   "execution_count": 148,
   "id": "1c3eb2ed-e4f9-4988-95f9-cb93fcbdf135",
   "metadata": {},
   "outputs": [],
   "source": [
    "merged_data['ratio'] = merged_data['pl_orbsmax'] / merged_data['semi_major_axis']"
   ]
  },
  {
   "cell_type": "code",
   "execution_count": 149,
   "id": "167b78d3-6964-4db2-b207-6f12fe317fe5",
   "metadata": {},
   "outputs": [
    {
     "data": {
      "text/html": [
       "<div>\n",
       "<style scoped>\n",
       "    .dataframe tbody tr th:only-of-type {\n",
       "        vertical-align: middle;\n",
       "    }\n",
       "\n",
       "    .dataframe tbody tr th {\n",
       "        vertical-align: top;\n",
       "    }\n",
       "\n",
       "    .dataframe thead th {\n",
       "        text-align: right;\n",
       "    }\n",
       "</style>\n",
       "<table border=\"1\" class=\"dataframe\">\n",
       "  <thead>\n",
       "    <tr style=\"text-align: right;\">\n",
       "      <th></th>\n",
       "      <th>pl_name</th>\n",
       "      <th>ratio</th>\n",
       "    </tr>\n",
       "  </thead>\n",
       "  <tbody>\n",
       "    <tr>\n",
       "      <th>0</th>\n",
       "      <td>11 UMi b</td>\n",
       "      <td>0.862534</td>\n",
       "    </tr>\n",
       "    <tr>\n",
       "      <th>1</th>\n",
       "      <td>14 And b</td>\n",
       "      <td>1.000607</td>\n",
       "    </tr>\n",
       "    <tr>\n",
       "      <th>2</th>\n",
       "      <td>14 Her b</td>\n",
       "      <td>1.056628</td>\n",
       "    </tr>\n",
       "    <tr>\n",
       "      <th>3</th>\n",
       "      <td>17 Sco b</td>\n",
       "      <td>0.997710</td>\n",
       "    </tr>\n",
       "    <tr>\n",
       "      <th>4</th>\n",
       "      <td>24 Boo b</td>\n",
       "      <td>1.000814</td>\n",
       "    </tr>\n",
       "    <tr>\n",
       "      <th>...</th>\n",
       "      <td>...</td>\n",
       "      <td>...</td>\n",
       "    </tr>\n",
       "    <tr>\n",
       "      <th>4039</th>\n",
       "      <td>tau Cet f</td>\n",
       "      <td>1.001103</td>\n",
       "    </tr>\n",
       "    <tr>\n",
       "      <th>4040</th>\n",
       "      <td>tau Cet g</td>\n",
       "      <td>1.001966</td>\n",
       "    </tr>\n",
       "    <tr>\n",
       "      <th>4041</th>\n",
       "      <td>tau Cet h</td>\n",
       "      <td>1.001731</td>\n",
       "    </tr>\n",
       "    <tr>\n",
       "      <th>4042</th>\n",
       "      <td>tau Gem b</td>\n",
       "      <td>0.995612</td>\n",
       "    </tr>\n",
       "    <tr>\n",
       "      <th>4043</th>\n",
       "      <td>xi Aql b</td>\n",
       "      <td>1.006069</td>\n",
       "    </tr>\n",
       "  </tbody>\n",
       "</table>\n",
       "<p>3936 rows × 2 columns</p>\n",
       "</div>"
      ],
      "text/plain": [
       "        pl_name     ratio\n",
       "0      11 UMi b  0.862534\n",
       "1      14 And b  1.000607\n",
       "2      14 Her b  1.056628\n",
       "3      17 Sco b  0.997710\n",
       "4      24 Boo b  1.000814\n",
       "...         ...       ...\n",
       "4039  tau Cet f  1.001103\n",
       "4040  tau Cet g  1.001966\n",
       "4041  tau Cet h  1.001731\n",
       "4042  tau Gem b  0.995612\n",
       "4043   xi Aql b  1.006069\n",
       "\n",
       "[3936 rows x 2 columns]"
      ]
     },
     "execution_count": 149,
     "metadata": {},
     "output_type": "execute_result"
    }
   ],
   "source": [
    "merged_data[['pl_name', 'ratio']]"
   ]
  },
  {
   "cell_type": "markdown",
   "id": "6862562e-95fe-4db1-b637-0af0f6b84c1c",
   "metadata": {},
   "source": [
    "### <u>**Mean value of the semi major axis *a***</u>"
   ]
  },
  {
   "cell_type": "code",
   "execution_count": 150,
   "id": "ba90cd1b-469d-4823-bf79-dec2e3b684c4",
   "metadata": {},
   "outputs": [
    {
     "data": {
      "text/plain": [
       "0.9979772648799254"
      ]
     },
     "execution_count": 150,
     "metadata": {},
     "output_type": "execute_result"
    }
   ],
   "source": [
    "merged_data['ratio'].mean()"
   ]
  },
  {
   "cell_type": "markdown",
   "id": "931e7269-abdc-4a78-a91c-555657a2ea6b",
   "metadata": {},
   "source": [
    "This value is very close to 1, showing that overall there is not much difference between the calculated values and the values in the data."
   ]
  },
  {
   "cell_type": "markdown",
   "id": "4051e333-7620-4a97-bf95-cc5dea4a5cc0",
   "metadata": {},
   "source": [
    "### <u>**Uncertainty for *a***</u>"
   ]
  },
  {
   "cell_type": "markdown",
   "id": "d0565c21-0e07-49af-b2c7-61ec5de0e9b7",
   "metadata": {},
   "source": [
    "Uncertainty is measured with a variance or its square root, which is a standard deviation."
   ]
  },
  {
   "cell_type": "markdown",
   "id": "1dcccad7-649e-48b1-839a-3c02dcf29bad",
   "metadata": {},
   "source": [
    "Standard deviation:"
   ]
  },
  {
   "cell_type": "code",
   "execution_count": 151,
   "id": "ea81f123-09a7-4400-bb50-7daad711f95f",
   "metadata": {},
   "outputs": [
    {
     "data": {
      "text/plain": [
       "0.05431974166166748"
      ]
     },
     "execution_count": 151,
     "metadata": {},
     "output_type": "execute_result"
    }
   ],
   "source": [
    "merged_data['ratio'].std()"
   ]
  },
  {
   "cell_type": "markdown",
   "id": "2e75d503-8daf-4057-8133-8b474a29ec3e",
   "metadata": {},
   "source": [
    "Variance:"
   ]
  },
  {
   "cell_type": "code",
   "execution_count": 152,
   "id": "71656e11-f10d-4225-87fe-21f9704b8480",
   "metadata": {},
   "outputs": [
    {
     "data": {
      "text/plain": [
       "0.002950634334190294"
      ]
     },
     "execution_count": 152,
     "metadata": {},
     "output_type": "execute_result"
    }
   ],
   "source": [
    "merged_data['ratio'].var()"
   ]
  },
  {
   "cell_type": "markdown",
   "id": "20b3b4c1-f615-47fc-be2d-9cdae99b5b9e",
   "metadata": {},
   "source": [
    "These values show how much variety there is in the data, the values are small meaning the data is precise. Uncertainty emerges because of variability. For the largest differences between the calculated semi major axis and the data-given semi major axis in the data set, the difference is still very small. There is not much error, estimates for surface temperature of each exoplanet will be accurate."
   ]
  },
  {
   "cell_type": "markdown",
   "id": "765c7015-16b0-4fe9-be67-0dd537c7dad4",
   "metadata": {},
   "source": [
    "### **<u>Habitable planets?</u>**"
   ]
  },
  {
   "cell_type": "markdown",
   "id": "1be72d36-5eb9-42d4-9558-7ca9b5f59bb9",
   "metadata": {},
   "source": [
    "In this section, we calculate surface temperatures for each exoplanet in the dataframe. First a value for the distance modulus must be found for each star. With this, an absolute magnitude can be found for all stars."
   ]
  },
  {
   "cell_type": "markdown",
   "id": "08df61d3-66c1-4e78-891c-a936bf563db0",
   "metadata": {},
   "source": [
    "$$μ = 5log_{10}(d) -5$$\n",
    "\n",
    "$$μ = m-M$$\n",
    "\n",
    "$$M = m-5log_{10}(d) +5$$"
   ]
  },
  {
   "cell_type": "markdown",
   "id": "b16557b7-1ff4-4954-8ed5-10c54af6c7b4",
   "metadata": {},
   "source": [
    "Where *μ* is the distance modulus (units of magnitude), *d* is the distance to the star (in parsecs), *m* is the apparent magnitude of the star, and *M* is the absolute magnitude of the star."
   ]
  },
  {
   "cell_type": "markdown",
   "id": "e8e0ca9c",
   "metadata": {},
   "source": [
    "Function for finding the absolute magnitude:"
   ]
  },
  {
   "cell_type": "code",
   "execution_count": 153,
   "id": "21e7867c-45eb-472d-b8dc-74ed83ad5ec6",
   "metadata": {},
   "outputs": [],
   "source": [
    "def absolute_magnitude_star (star_distance, apparant_magnitude_star):\n",
    "    \n",
    "    d = star_distance\n",
    "    m = apparant_magnitude_star\n",
    "    \n",
    "    M = m - (5 * np.log10((d)) - 5) # M = Absolute magnitude of star \n",
    "    return(M)"
   ]
  },
  {
   "cell_type": "code",
   "execution_count": 154,
   "id": "d1b78878-ce1f-45e8-8298-2b0d61e65326",
   "metadata": {},
   "outputs": [],
   "source": [
    "merged_data['absolute_magnitude_star'] = absolute_magnitude_star (merged_data['sy_dist'], merged_data['sy_gaiamag'])"
   ]
  },
  {
   "cell_type": "markdown",
   "id": "2313683d",
   "metadata": {},
   "source": [
    "Absolute magnitude values for each planet:"
   ]
  },
  {
   "cell_type": "code",
   "execution_count": 155,
   "id": "e8790d1c-b810-459a-82b3-2d1ecfd1141b",
   "metadata": {},
   "outputs": [
    {
     "data": {
      "text/html": [
       "<div>\n",
       "<style scoped>\n",
       "    .dataframe tbody tr th:only-of-type {\n",
       "        vertical-align: middle;\n",
       "    }\n",
       "\n",
       "    .dataframe tbody tr th {\n",
       "        vertical-align: top;\n",
       "    }\n",
       "\n",
       "    .dataframe thead th {\n",
       "        text-align: right;\n",
       "    }\n",
       "</style>\n",
       "<table border=\"1\" class=\"dataframe\">\n",
       "  <thead>\n",
       "    <tr style=\"text-align: right;\">\n",
       "      <th></th>\n",
       "      <th>pl_name</th>\n",
       "      <th>absolute_magnitude_star</th>\n",
       "    </tr>\n",
       "  </thead>\n",
       "  <tbody>\n",
       "    <tr>\n",
       "      <th>0</th>\n",
       "      <td>11 UMi b</td>\n",
       "      <td>-0.927959</td>\n",
       "    </tr>\n",
       "    <tr>\n",
       "      <th>1</th>\n",
       "      <td>14 And b</td>\n",
       "      <td>0.529825</td>\n",
       "    </tr>\n",
       "    <tr>\n",
       "      <th>2</th>\n",
       "      <td>14 Her b</td>\n",
       "      <td>5.114820</td>\n",
       "    </tr>\n",
       "    <tr>\n",
       "      <th>3</th>\n",
       "      <td>17 Sco b</td>\n",
       "      <td>-0.729443</td>\n",
       "    </tr>\n",
       "    <tr>\n",
       "      <th>4</th>\n",
       "      <td>24 Boo b</td>\n",
       "      <td>0.422854</td>\n",
       "    </tr>\n",
       "    <tr>\n",
       "      <th>...</th>\n",
       "      <td>...</td>\n",
       "      <td>...</td>\n",
       "    </tr>\n",
       "    <tr>\n",
       "      <th>4039</th>\n",
       "      <td>tau Cet f</td>\n",
       "      <td>5.465195</td>\n",
       "    </tr>\n",
       "    <tr>\n",
       "      <th>4040</th>\n",
       "      <td>tau Cet g</td>\n",
       "      <td>5.465195</td>\n",
       "    </tr>\n",
       "    <tr>\n",
       "      <th>4041</th>\n",
       "      <td>tau Cet h</td>\n",
       "      <td>5.465195</td>\n",
       "    </tr>\n",
       "    <tr>\n",
       "      <th>4042</th>\n",
       "      <td>tau Gem b</td>\n",
       "      <td>-1.216517</td>\n",
       "    </tr>\n",
       "    <tr>\n",
       "      <th>4043</th>\n",
       "      <td>xi Aql b</td>\n",
       "      <td>0.676877</td>\n",
       "    </tr>\n",
       "  </tbody>\n",
       "</table>\n",
       "<p>3936 rows × 2 columns</p>\n",
       "</div>"
      ],
      "text/plain": [
       "        pl_name  absolute_magnitude_star\n",
       "0      11 UMi b                -0.927959\n",
       "1      14 And b                 0.529825\n",
       "2      14 Her b                 5.114820\n",
       "3      17 Sco b                -0.729443\n",
       "4      24 Boo b                 0.422854\n",
       "...         ...                      ...\n",
       "4039  tau Cet f                 5.465195\n",
       "4040  tau Cet g                 5.465195\n",
       "4041  tau Cet h                 5.465195\n",
       "4042  tau Gem b                -1.216517\n",
       "4043   xi Aql b                 0.676877\n",
       "\n",
       "[3936 rows x 2 columns]"
      ]
     },
     "execution_count": 155,
     "metadata": {},
     "output_type": "execute_result"
    }
   ],
   "source": [
    "merged_data[['pl_name', 'absolute_magnitude_star']]"
   ]
  },
  {
   "cell_type": "markdown",
   "id": "a8041168-4cd2-4ebb-afe2-336f7545c7ac",
   "metadata": {},
   "source": [
    "Absolute magnitudes can be negative, it means they have a high luminosity."
   ]
  },
  {
   "cell_type": "markdown",
   "id": "298bf77f-aafb-41e0-b731-8a0670f463a6",
   "metadata": {},
   "source": [
    "With the absolute magnitude of the stars, luminosity can be calculated."
   ]
  },
  {
   "cell_type": "markdown",
   "id": "84866144-d403-460d-9c37-ac243b51bcd7",
   "metadata": {},
   "source": [
    "$$L=10^{\\frac{M_⊙ - M}{2.5}}$$"
   ]
  },
  {
   "cell_type": "markdown",
   "id": "fd6c039b-f3cf-47e6-9943-0a938dc08079",
   "metadata": {},
   "source": [
    "Where *L* is the luminosity of a star (in units of solar luminosities), *M_⊙* = 4.68 mag, the absolute magnitude of the Sun in the Gaia G-band, and *M* is the absolute magnitude of a star in the Gaia G-band."
   ]
  },
  {
   "cell_type": "markdown",
   "id": "cb98ea06",
   "metadata": {},
   "source": [
    "Function for finding luminosity:"
   ]
  },
  {
   "cell_type": "code",
   "execution_count": 156,
   "id": "02099f37-72b2-4719-b68f-12cde1b09df1",
   "metadata": {},
   "outputs": [],
   "source": [
    "def luminosity (absolute_magnitude_star):\n",
    "    \n",
    "    M = absolute_magnitude_star\n",
    "    absolute_magnitude_sun = 4.68\n",
    "    \n",
    "    luminosity = 10**((absolute_magnitude_sun - M) / 2.5)\n",
    "    return (luminosity)"
   ]
  },
  {
   "cell_type": "code",
   "execution_count": 157,
   "id": "8fc7f653-c578-4fda-ad7b-1dfa0e6e6182",
   "metadata": {},
   "outputs": [],
   "source": [
    "merged_data['luminosity'] = luminosity (merged_data['absolute_magnitude_star'])"
   ]
  },
  {
   "cell_type": "markdown",
   "id": "ce87978f",
   "metadata": {},
   "source": [
    "Luminosity values for each planet:"
   ]
  },
  {
   "cell_type": "code",
   "execution_count": 158,
   "id": "5198c8ad-612d-458c-bf94-b5c2bbc70646",
   "metadata": {},
   "outputs": [
    {
     "data": {
      "text/html": [
       "<div>\n",
       "<style scoped>\n",
       "    .dataframe tbody tr th:only-of-type {\n",
       "        vertical-align: middle;\n",
       "    }\n",
       "\n",
       "    .dataframe tbody tr th {\n",
       "        vertical-align: top;\n",
       "    }\n",
       "\n",
       "    .dataframe thead th {\n",
       "        text-align: right;\n",
       "    }\n",
       "</style>\n",
       "<table border=\"1\" class=\"dataframe\">\n",
       "  <thead>\n",
       "    <tr style=\"text-align: right;\">\n",
       "      <th></th>\n",
       "      <th>pl_name</th>\n",
       "      <th>luminosity</th>\n",
       "    </tr>\n",
       "  </thead>\n",
       "  <tbody>\n",
       "    <tr>\n",
       "      <th>0</th>\n",
       "      <td>11 UMi b</td>\n",
       "      <td>175.058702</td>\n",
       "    </tr>\n",
       "    <tr>\n",
       "      <th>1</th>\n",
       "      <td>14 And b</td>\n",
       "      <td>45.716203</td>\n",
       "    </tr>\n",
       "    <tr>\n",
       "      <th>2</th>\n",
       "      <td>14 Her b</td>\n",
       "      <td>0.669996</td>\n",
       "    </tr>\n",
       "    <tr>\n",
       "      <th>3</th>\n",
       "      <td>17 Sco b</td>\n",
       "      <td>145.806665</td>\n",
       "    </tr>\n",
       "    <tr>\n",
       "      <th>4</th>\n",
       "      <td>24 Boo b</td>\n",
       "      <td>50.449690</td>\n",
       "    </tr>\n",
       "    <tr>\n",
       "      <th>...</th>\n",
       "      <td>...</td>\n",
       "      <td>...</td>\n",
       "    </tr>\n",
       "    <tr>\n",
       "      <th>4039</th>\n",
       "      <td>tau Cet f</td>\n",
       "      <td>0.485202</td>\n",
       "    </tr>\n",
       "    <tr>\n",
       "      <th>4040</th>\n",
       "      <td>tau Cet g</td>\n",
       "      <td>0.485202</td>\n",
       "    </tr>\n",
       "    <tr>\n",
       "      <th>4041</th>\n",
       "      <td>tau Cet h</td>\n",
       "      <td>0.485202</td>\n",
       "    </tr>\n",
       "    <tr>\n",
       "      <th>4042</th>\n",
       "      <td>tau Gem b</td>\n",
       "      <td>228.352971</td>\n",
       "    </tr>\n",
       "    <tr>\n",
       "      <th>4043</th>\n",
       "      <td>xi Aql b</td>\n",
       "      <td>39.925387</td>\n",
       "    </tr>\n",
       "  </tbody>\n",
       "</table>\n",
       "<p>3936 rows × 2 columns</p>\n",
       "</div>"
      ],
      "text/plain": [
       "        pl_name  luminosity\n",
       "0      11 UMi b  175.058702\n",
       "1      14 And b   45.716203\n",
       "2      14 Her b    0.669996\n",
       "3      17 Sco b  145.806665\n",
       "4      24 Boo b   50.449690\n",
       "...         ...         ...\n",
       "4039  tau Cet f    0.485202\n",
       "4040  tau Cet g    0.485202\n",
       "4041  tau Cet h    0.485202\n",
       "4042  tau Gem b  228.352971\n",
       "4043   xi Aql b   39.925387\n",
       "\n",
       "[3936 rows x 2 columns]"
      ]
     },
     "execution_count": 158,
     "metadata": {},
     "output_type": "execute_result"
    }
   ],
   "source": [
    "merged_data [['pl_name', 'luminosity']] #MATHEMATICALLY TESTED FIRST VALUE, RETURNS CORRECT VALUES"
   ]
  },
  {
   "cell_type": "markdown",
   "id": "b1bfd219-97b6-42fd-8ca3-8d2a9e4ea286",
   "metadata": {},
   "source": [
    "Luminosity, temperature, and stellar radius are related by the equation:"
   ]
  },
  {
   "cell_type": "markdown",
   "id": "28b70039-e915-49d6-a231-215916ce84df",
   "metadata": {},
   "source": [
    "$$\\frac{L}{L_⊙}=(\\frac{R}{R_⊙})^2 (\\frac{T_{eff}}{T_{eff⊙}})^4$$"
   ]
  },
  {
   "cell_type": "markdown",
   "id": "b5ab6faf-8967-4c97-aaf5-1f1d301dc533",
   "metadata": {},
   "source": [
    "$$T_{eff} = T_{eff⊙}(\\frac{LR_⊙^2}{R^2L_⊙})^{\\frac{1}{4}}$$"
   ]
  },
  {
   "cell_type": "markdown",
   "id": "35882be2-b3fc-464f-83db-a68cebacdb8f",
   "metadata": {},
   "source": [
    "Where *T_eff⊙* = 5756K, *R_⊙* = 696340 km and  *L_⊙* = 1 are the temperature, radius and luminosity of the Sun."
   ]
  },
  {
   "cell_type": "markdown",
   "id": "d6601e9a",
   "metadata": {},
   "source": [
    "Function for temperature of each star:"
   ]
  },
  {
   "cell_type": "code",
   "execution_count": 159,
   "id": "6bd9f01e-6046-47b7-8faf-d79bbd41e0ad",
   "metadata": {},
   "outputs": [],
   "source": [
    "def  star_temperature (radius, luminosity):\n",
    "    \n",
    "    #all const. values for sun\n",
    "    L_s = 1 # Solar luminosity\n",
    "    T_s = 5756 #K\n",
    "    R_s = 1 #solar radius\n",
    "    \n",
    "    R = radius\n",
    "    L = luminosity\n",
    "    \n",
    "    x = ((L * (R_s)**2) / ((L_s) * R**2))**(1/4) # x = placeholder\n",
    "    T = (T_s) * x \n",
    "    return (T)"
   ]
  },
  {
   "cell_type": "code",
   "execution_count": 160,
   "id": "87a56ec1-cd21-405c-a113-c2364698045a",
   "metadata": {},
   "outputs": [],
   "source": [
    "merged_data['star_temperature'] = star_temperature (merged_data['st_rad'], merged_data['luminosity'])"
   ]
  },
  {
   "cell_type": "markdown",
   "id": "2954e88e",
   "metadata": {},
   "source": [
    "Star temperatures for each planet:"
   ]
  },
  {
   "cell_type": "code",
   "execution_count": 161,
   "id": "8810b2a0-c1ea-4a3a-90bc-fe23ee0fcc86",
   "metadata": {},
   "outputs": [
    {
     "data": {
      "text/html": [
       "<div>\n",
       "<style scoped>\n",
       "    .dataframe tbody tr th:only-of-type {\n",
       "        vertical-align: middle;\n",
       "    }\n",
       "\n",
       "    .dataframe tbody tr th {\n",
       "        vertical-align: top;\n",
       "    }\n",
       "\n",
       "    .dataframe thead th {\n",
       "        text-align: right;\n",
       "    }\n",
       "</style>\n",
       "<table border=\"1\" class=\"dataframe\">\n",
       "  <thead>\n",
       "    <tr style=\"text-align: right;\">\n",
       "      <th></th>\n",
       "      <th>pl_name</th>\n",
       "      <th>star_temperature</th>\n",
       "    </tr>\n",
       "  </thead>\n",
       "  <tbody>\n",
       "    <tr>\n",
       "      <th>0</th>\n",
       "      <td>11 UMi b</td>\n",
       "      <td>3836.025270</td>\n",
       "    </tr>\n",
       "    <tr>\n",
       "      <th>1</th>\n",
       "      <td>14 And b</td>\n",
       "      <td>4512.757325</td>\n",
       "    </tr>\n",
       "    <tr>\n",
       "      <th>2</th>\n",
       "      <td>14 Her b</td>\n",
       "      <td>5400.044129</td>\n",
       "    </tr>\n",
       "    <tr>\n",
       "      <th>3</th>\n",
       "      <td>17 Sco b</td>\n",
       "      <td>3928.688815</td>\n",
       "    </tr>\n",
       "    <tr>\n",
       "      <th>4</th>\n",
       "      <td>24 Boo b</td>\n",
       "      <td>4702.887575</td>\n",
       "    </tr>\n",
       "    <tr>\n",
       "      <th>...</th>\n",
       "      <td>...</td>\n",
       "      <td>...</td>\n",
       "    </tr>\n",
       "    <tr>\n",
       "      <th>4039</th>\n",
       "      <td>tau Cet f</td>\n",
       "      <td>5273.054753</td>\n",
       "    </tr>\n",
       "    <tr>\n",
       "      <th>4040</th>\n",
       "      <td>tau Cet g</td>\n",
       "      <td>5273.054753</td>\n",
       "    </tr>\n",
       "    <tr>\n",
       "      <th>4041</th>\n",
       "      <td>tau Cet h</td>\n",
       "      <td>5273.054753</td>\n",
       "    </tr>\n",
       "    <tr>\n",
       "      <th>4042</th>\n",
       "      <td>tau Gem b</td>\n",
       "      <td>4322.201951</td>\n",
       "    </tr>\n",
       "    <tr>\n",
       "      <th>4043</th>\n",
       "      <td>xi Aql b</td>\n",
       "      <td>4176.788137</td>\n",
       "    </tr>\n",
       "  </tbody>\n",
       "</table>\n",
       "<p>3936 rows × 2 columns</p>\n",
       "</div>"
      ],
      "text/plain": [
       "        pl_name  star_temperature\n",
       "0      11 UMi b       3836.025270\n",
       "1      14 And b       4512.757325\n",
       "2      14 Her b       5400.044129\n",
       "3      17 Sco b       3928.688815\n",
       "4      24 Boo b       4702.887575\n",
       "...         ...               ...\n",
       "4039  tau Cet f       5273.054753\n",
       "4040  tau Cet g       5273.054753\n",
       "4041  tau Cet h       5273.054753\n",
       "4042  tau Gem b       4322.201951\n",
       "4043   xi Aql b       4176.788137\n",
       "\n",
       "[3936 rows x 2 columns]"
      ]
     },
     "execution_count": 161,
     "metadata": {},
     "output_type": "execute_result"
    }
   ],
   "source": [
    "merged_data [['pl_name', 'star_temperature']]"
   ]
  },
  {
   "cell_type": "markdown",
   "id": "1a9e34af-f036-49ff-b874-b2d602b69600",
   "metadata": {},
   "source": [
    "Finally, the surface temperature of a planet can be estimated by:"
   ]
  },
  {
   "cell_type": "markdown",
   "id": "ffa92e44-a3ea-4930-a6bb-0eda7f07c8eb",
   "metadata": {},
   "source": [
    "$$T_p=T_{eff}(\\frac{0.9R}{2a})^{\\frac{1}{2}}$$"
   ]
  },
  {
   "cell_type": "markdown",
   "id": "42195721-4812-42e6-8c45-691ff6e50643",
   "metadata": {},
   "source": [
    "Where *T_p* is the surface temperature of the planet, *T* is the temperature of the star (in Kelvin), *R* is the radius of the star (metres) and *a* is the semi-major axis (in metres)"
   ]
  },
  {
   "cell_type": "markdown",
   "id": "e86329c6",
   "metadata": {},
   "source": [
    "Function for surface temperature of each exoplanet:"
   ]
  },
  {
   "cell_type": "code",
   "execution_count": 162,
   "id": "3189267b-9f91-4fd0-ad3d-883a49609710",
   "metadata": {},
   "outputs": [],
   "source": [
    "def  surface_temperature (star_temperature, st_rad, semi_major_axis):\n",
    "    \n",
    "    T = star_temperature\n",
    "    R = st_rad * 696340000\n",
    "    a = semi_major_axis *  1.495978707 * 10**11\n",
    "    \n",
    "    k = T * ((0.9 * R) / (2 * a))**0.5\n",
    "    return (k)"
   ]
  },
  {
   "cell_type": "markdown",
   "id": "1622f31b-d5ac-49b3-b61d-d8db0472e162",
   "metadata": {},
   "source": [
    "To convert au to metres, multiply by ≈ 1.5×10^11 - the distance between the sun and the Earth"
   ]
  },
  {
   "cell_type": "code",
   "execution_count": 163,
   "id": "54c60aba-a3ee-4615-b863-7beadfe2985e",
   "metadata": {},
   "outputs": [],
   "source": [
    "merged_data['surface_temperature'] = surface_temperature (merged_data['star_temperature'], merged_data['st_rad'], merged_data['semi_major_axis'])"
   ]
  },
  {
   "cell_type": "markdown",
   "id": "1ba814d2",
   "metadata": {},
   "source": [
    "Surface temperature values for all planets in data set:"
   ]
  },
  {
   "cell_type": "code",
   "execution_count": 164,
   "id": "bd42a269-55e4-4285-9947-0362915f2c4c",
   "metadata": {},
   "outputs": [
    {
     "data": {
      "text/html": [
       "<div>\n",
       "<style scoped>\n",
       "    .dataframe tbody tr th:only-of-type {\n",
       "        vertical-align: middle;\n",
       "    }\n",
       "\n",
       "    .dataframe tbody tr th {\n",
       "        vertical-align: top;\n",
       "    }\n",
       "\n",
       "    .dataframe thead th {\n",
       "        text-align: right;\n",
       "    }\n",
       "</style>\n",
       "<table border=\"1\" class=\"dataframe\">\n",
       "  <thead>\n",
       "    <tr style=\"text-align: right;\">\n",
       "      <th></th>\n",
       "      <th>pl_name</th>\n",
       "      <th>surface_temperature</th>\n",
       "    </tr>\n",
       "  </thead>\n",
       "  <tbody>\n",
       "    <tr>\n",
       "      <th>0</th>\n",
       "      <td>11 UMi b</td>\n",
       "      <td>719.470905</td>\n",
       "    </tr>\n",
       "    <tr>\n",
       "      <th>1</th>\n",
       "      <td>14 And b</td>\n",
       "      <td>752.116805</td>\n",
       "    </tr>\n",
       "    <tr>\n",
       "      <th>2</th>\n",
       "      <td>14 Her b</td>\n",
       "      <td>143.126576</td>\n",
       "    </tr>\n",
       "    <tr>\n",
       "      <th>3</th>\n",
       "      <td>17 Sco b</td>\n",
       "      <td>759.342200</td>\n",
       "    </tr>\n",
       "    <tr>\n",
       "      <th>4</th>\n",
       "      <td>24 Boo b</td>\n",
       "      <td>1611.348504</td>\n",
       "    </tr>\n",
       "    <tr>\n",
       "      <th>...</th>\n",
       "      <td>...</td>\n",
       "      <td>...</td>\n",
       "    </tr>\n",
       "    <tr>\n",
       "      <th>4039</th>\n",
       "      <td>tau Cet f</td>\n",
       "      <td>190.465771</td>\n",
       "    </tr>\n",
       "    <tr>\n",
       "      <th>4040</th>\n",
       "      <td>tau Cet g</td>\n",
       "      <td>603.470678</td>\n",
       "    </tr>\n",
       "    <tr>\n",
       "      <th>4041</th>\n",
       "      <td>tau Cet h</td>\n",
       "      <td>446.403781</td>\n",
       "    </tr>\n",
       "    <tr>\n",
       "      <th>4042</th>\n",
       "      <td>tau Gem b</td>\n",
       "      <td>944.667255</td>\n",
       "    </tr>\n",
       "    <tr>\n",
       "      <th>4043</th>\n",
       "      <td>xi Aql b</td>\n",
       "      <td>805.465049</td>\n",
       "    </tr>\n",
       "  </tbody>\n",
       "</table>\n",
       "<p>3936 rows × 2 columns</p>\n",
       "</div>"
      ],
      "text/plain": [
       "        pl_name  surface_temperature\n",
       "0      11 UMi b           719.470905\n",
       "1      14 And b           752.116805\n",
       "2      14 Her b           143.126576\n",
       "3      17 Sco b           759.342200\n",
       "4      24 Boo b          1611.348504\n",
       "...         ...                  ...\n",
       "4039  tau Cet f           190.465771\n",
       "4040  tau Cet g           603.470678\n",
       "4041  tau Cet h           446.403781\n",
       "4042  tau Gem b           944.667255\n",
       "4043   xi Aql b           805.465049\n",
       "\n",
       "[3936 rows x 2 columns]"
      ]
     },
     "execution_count": 164,
     "metadata": {},
     "output_type": "execute_result"
    }
   ],
   "source": [
    "merged_data [['pl_name', 'surface_temperature']]"
   ]
  },
  {
   "cell_type": "markdown",
   "id": "f8ba0fbe-634c-463f-8ba9-9c51dfbf2da1",
   "metadata": {},
   "source": [
    "### <u>**How many planets are habitable?**</u>"
   ]
  },
  {
   "cell_type": "code",
   "execution_count": 165,
   "id": "e78cfecb-2ebf-4a73-b84a-d20cf44deae9",
   "metadata": {},
   "outputs": [],
   "source": [
    "array = merged_data['surface_temperature']\n",
    "\n",
    "habitable_bool = np.empty ((0,1), dtype = 'bool')\n",
    "\n",
    "for i in array:\n",
    "    \n",
    "    if 273.15 < i < 373.15:\n",
    "        habitable_bool = np.append(habitable_bool, True)\n",
    "    else:\n",
    "        habitable_bool = np.append(habitable_bool, False)"
   ]
  },
  {
   "cell_type": "code",
   "execution_count": 166,
   "id": "b5ba437e-701d-4da9-b4aa-4bc3356a64f9",
   "metadata": {},
   "outputs": [
    {
     "name": "stdout",
     "output_type": "stream",
     "text": [
      "[False False False ... False False False]\n"
     ]
    }
   ],
   "source": [
    "print (habitable_bool)"
   ]
  },
  {
   "cell_type": "code",
   "execution_count": 167,
   "id": "667d5b91-2db7-4551-a378-1e41718dc1aa",
   "metadata": {},
   "outputs": [],
   "source": [
    "habitable_count = np.count_nonzero (habitable_bool)"
   ]
  },
  {
   "cell_type": "code",
   "execution_count": 168,
   "id": "deaf1066-0f81-4b98-a4a8-ffb7740288e7",
   "metadata": {},
   "outputs": [
    {
     "name": "stdout",
     "output_type": "stream",
     "text": [
      "283\n"
     ]
    }
   ],
   "source": [
    "print (habitable_count)"
   ]
  },
  {
   "cell_type": "markdown",
   "id": "77a7498c-d015-4b08-98a1-347a3bca44e8",
   "metadata": {},
   "source": [
    "283 of the planets in the data have been deemed habitable. The condition we used was if the planet has a surface temperature between 273.15K and 373.15K, it is habitable. If not, it is uninhabitable."
   ]
  },
  {
   "cell_type": "markdown",
   "id": "bfa7b100-5c75-4b01-b699-7631a9659861",
   "metadata": {},
   "source": [
    "### <u>**Graphs**</u>"
   ]
  },
  {
   "cell_type": "code",
   "execution_count": 169,
   "id": "fd8a228a-ce06-4471-aad8-fec04b9452c0",
   "metadata": {},
   "outputs": [],
   "source": [
    "habitable = merged_data[(merged_data['surface_temperature'] > 273.15) & (merged_data['surface_temperature'] < 373.15)]"
   ]
  },
  {
   "cell_type": "markdown",
   "id": "194516e6-0587-422a-91e3-62a8102bb440",
   "metadata": {},
   "source": [
    "Table displaying information for the 'habitable' planets:"
   ]
  },
  {
   "cell_type": "code",
   "execution_count": 170,
   "id": "bb1ea620-0ad0-452d-812c-51d0aca67cf6",
   "metadata": {},
   "outputs": [
    {
     "data": {
      "text/html": [
       "<div>\n",
       "<style scoped>\n",
       "    .dataframe tbody tr th:only-of-type {\n",
       "        vertical-align: middle;\n",
       "    }\n",
       "\n",
       "    .dataframe tbody tr th {\n",
       "        vertical-align: top;\n",
       "    }\n",
       "\n",
       "    .dataframe thead th {\n",
       "        text-align: right;\n",
       "    }\n",
       "</style>\n",
       "<table border=\"1\" class=\"dataframe\">\n",
       "  <thead>\n",
       "    <tr style=\"text-align: right;\">\n",
       "      <th></th>\n",
       "      <th>pl_name</th>\n",
       "      <th>hostname</th>\n",
       "      <th>pl_orbper</th>\n",
       "      <th>pl_orbsmax</th>\n",
       "      <th>pl_orbincl</th>\n",
       "      <th>pl_orbeccen</th>\n",
       "      <th>pl_bmasse</th>\n",
       "      <th>pl_rade</th>\n",
       "      <th>ra</th>\n",
       "      <th>dec</th>\n",
       "      <th>...</th>\n",
       "      <th>st_mass</th>\n",
       "      <th>st_rad</th>\n",
       "      <th>sy_dist</th>\n",
       "      <th>sy_gaiamag</th>\n",
       "      <th>semi_major_axis</th>\n",
       "      <th>ratio</th>\n",
       "      <th>absolute_magnitude_star</th>\n",
       "      <th>luminosity</th>\n",
       "      <th>star_temperature</th>\n",
       "      <th>surface_temperature</th>\n",
       "    </tr>\n",
       "  </thead>\n",
       "  <tbody>\n",
       "    <tr>\n",
       "      <th>6</th>\n",
       "      <td>24 Sex c</td>\n",
       "      <td>24 Sex</td>\n",
       "      <td>883.00</td>\n",
       "      <td>2.080</td>\n",
       "      <td>NaN</td>\n",
       "      <td>0.290</td>\n",
       "      <td>273.320</td>\n",
       "      <td>13.90</td>\n",
       "      <td>155.868487</td>\n",
       "      <td>-0.902400</td>\n",
       "      <td>...</td>\n",
       "      <td>1.54</td>\n",
       "      <td>4.90</td>\n",
       "      <td>72.06910</td>\n",
       "      <td>6.20374</td>\n",
       "      <td>2.080515</td>\n",
       "      <td>0.999753</td>\n",
       "      <td>1.914995</td>\n",
       "      <td>12.764453</td>\n",
       "      <td>4914.997424</td>\n",
       "      <td>345.215403</td>\n",
       "    </tr>\n",
       "    <tr>\n",
       "      <th>12</th>\n",
       "      <td>6 Lyn b</td>\n",
       "      <td>6 Lyn</td>\n",
       "      <td>934.30</td>\n",
       "      <td>2.110</td>\n",
       "      <td>NaN</td>\n",
       "      <td>0.073</td>\n",
       "      <td>638.838</td>\n",
       "      <td>13.40</td>\n",
       "      <td>97.696031</td>\n",
       "      <td>58.161175</td>\n",
       "      <td>...</td>\n",
       "      <td>1.44</td>\n",
       "      <td>5.20</td>\n",
       "      <td>54.65990</td>\n",
       "      <td>5.60686</td>\n",
       "      <td>2.113087</td>\n",
       "      <td>0.998539</td>\n",
       "      <td>1.918516</td>\n",
       "      <td>12.723121</td>\n",
       "      <td>4767.245636</td>\n",
       "      <td>342.266744</td>\n",
       "    </tr>\n",
       "    <tr>\n",
       "      <th>15</th>\n",
       "      <td>61 Vir d</td>\n",
       "      <td>61 Vir</td>\n",
       "      <td>123.01</td>\n",
       "      <td>0.476</td>\n",
       "      <td>NaN</td>\n",
       "      <td>0.350</td>\n",
       "      <td>22.900</td>\n",
       "      <td>5.11</td>\n",
       "      <td>199.596455</td>\n",
       "      <td>-18.315774</td>\n",
       "      <td>...</td>\n",
       "      <td>0.94</td>\n",
       "      <td>0.96</td>\n",
       "      <td>8.50332</td>\n",
       "      <td>4.54052</td>\n",
       "      <td>0.474198</td>\n",
       "      <td>1.003800</td>\n",
       "      <td>4.892577</td>\n",
       "      <td>0.822184</td>\n",
       "      <td>5594.063994</td>\n",
       "      <td>364.281739</td>\n",
       "    </tr>\n",
       "    <tr>\n",
       "      <th>16</th>\n",
       "      <td>7 CMa b</td>\n",
       "      <td>7 CMa</td>\n",
       "      <td>735.10</td>\n",
       "      <td>1.758</td>\n",
       "      <td>90.0</td>\n",
       "      <td>0.060</td>\n",
       "      <td>587.986</td>\n",
       "      <td>13.40</td>\n",
       "      <td>99.171276</td>\n",
       "      <td>-19.256181</td>\n",
       "      <td>...</td>\n",
       "      <td>1.34</td>\n",
       "      <td>4.87</td>\n",
       "      <td>19.81010</td>\n",
       "      <td>3.67853</td>\n",
       "      <td>1.758205</td>\n",
       "      <td>0.999883</td>\n",
       "      <td>2.194097</td>\n",
       "      <td>9.871004</td>\n",
       "      <td>4623.242125</td>\n",
       "      <td>352.152355</td>\n",
       "    </tr>\n",
       "    <tr>\n",
       "      <th>17</th>\n",
       "      <td>7 CMa c</td>\n",
       "      <td>7 CMa</td>\n",
       "      <td>996.00</td>\n",
       "      <td>2.153</td>\n",
       "      <td>90.0</td>\n",
       "      <td>0.080</td>\n",
       "      <td>276.512</td>\n",
       "      <td>13.90</td>\n",
       "      <td>99.171276</td>\n",
       "      <td>-19.256181</td>\n",
       "      <td>...</td>\n",
       "      <td>1.34</td>\n",
       "      <td>4.87</td>\n",
       "      <td>19.81010</td>\n",
       "      <td>3.67853</td>\n",
       "      <td>2.152338</td>\n",
       "      <td>1.000308</td>\n",
       "      <td>2.194097</td>\n",
       "      <td>9.871004</td>\n",
       "      <td>4623.242125</td>\n",
       "      <td>318.280563</td>\n",
       "    </tr>\n",
       "    <tr>\n",
       "      <th>...</th>\n",
       "      <td>...</td>\n",
       "      <td>...</td>\n",
       "      <td>...</td>\n",
       "      <td>...</td>\n",
       "      <td>...</td>\n",
       "      <td>...</td>\n",
       "      <td>...</td>\n",
       "      <td>...</td>\n",
       "      <td>...</td>\n",
       "      <td>...</td>\n",
       "      <td>...</td>\n",
       "      <td>...</td>\n",
       "      <td>...</td>\n",
       "      <td>...</td>\n",
       "      <td>...</td>\n",
       "      <td>...</td>\n",
       "      <td>...</td>\n",
       "      <td>...</td>\n",
       "      <td>...</td>\n",
       "      <td>...</td>\n",
       "      <td>...</td>\n",
       "    </tr>\n",
       "    <tr>\n",
       "      <th>4019</th>\n",
       "      <td>YZ Cet c</td>\n",
       "      <td>YZ Cet</td>\n",
       "      <td>3.06</td>\n",
       "      <td>0.021</td>\n",
       "      <td>NaN</td>\n",
       "      <td>0.040</td>\n",
       "      <td>0.980</td>\n",
       "      <td>1.00</td>\n",
       "      <td>18.133079</td>\n",
       "      <td>-16.996243</td>\n",
       "      <td>...</td>\n",
       "      <td>0.13</td>\n",
       "      <td>0.17</td>\n",
       "      <td>3.71207</td>\n",
       "      <td>10.42940</td>\n",
       "      <td>0.020897</td>\n",
       "      <td>1.004942</td>\n",
       "      <td>12.581319</td>\n",
       "      <td>0.000691</td>\n",
       "      <td>2263.416113</td>\n",
       "      <td>295.463581</td>\n",
       "    </tr>\n",
       "    <tr>\n",
       "      <th>4022</th>\n",
       "      <td>bet Pic c</td>\n",
       "      <td>bet Pic</td>\n",
       "      <td>1200.00</td>\n",
       "      <td>2.700</td>\n",
       "      <td>90.0</td>\n",
       "      <td>0.240</td>\n",
       "      <td>2860.470</td>\n",
       "      <td>12.50</td>\n",
       "      <td>86.821234</td>\n",
       "      <td>-51.066148</td>\n",
       "      <td>...</td>\n",
       "      <td>1.75</td>\n",
       "      <td>2.01</td>\n",
       "      <td>19.74420</td>\n",
       "      <td>3.82015</td>\n",
       "      <td>2.667609</td>\n",
       "      <td>1.012142</td>\n",
       "      <td>2.342952</td>\n",
       "      <td>8.606352</td>\n",
       "      <td>6953.885370</td>\n",
       "      <td>276.260432</td>\n",
       "    </tr>\n",
       "    <tr>\n",
       "      <th>4030</th>\n",
       "      <td>kap CrB b</td>\n",
       "      <td>kap CrB</td>\n",
       "      <td>1285.00</td>\n",
       "      <td>2.650</td>\n",
       "      <td>60.0</td>\n",
       "      <td>0.167</td>\n",
       "      <td>635.660</td>\n",
       "      <td>13.40</td>\n",
       "      <td>237.808001</td>\n",
       "      <td>35.655882</td>\n",
       "      <td>...</td>\n",
       "      <td>1.50</td>\n",
       "      <td>4.85</td>\n",
       "      <td>30.06510</td>\n",
       "      <td>4.52428</td>\n",
       "      <td>2.649087</td>\n",
       "      <td>1.000345</td>\n",
       "      <td>2.133967</td>\n",
       "      <td>10.433098</td>\n",
       "      <td>4697.353478</td>\n",
       "      <td>290.890947</td>\n",
       "    </tr>\n",
       "    <tr>\n",
       "      <th>4033</th>\n",
       "      <td>nu Oph c</td>\n",
       "      <td>nu Oph</td>\n",
       "      <td>3184.83</td>\n",
       "      <td>5.931</td>\n",
       "      <td>90.0</td>\n",
       "      <td>0.180</td>\n",
       "      <td>7838.323</td>\n",
       "      <td>12.00</td>\n",
       "      <td>269.756601</td>\n",
       "      <td>-9.774134</td>\n",
       "      <td>...</td>\n",
       "      <td>2.70</td>\n",
       "      <td>14.60</td>\n",
       "      <td>46.21070</td>\n",
       "      <td>3.09653</td>\n",
       "      <td>5.916279</td>\n",
       "      <td>1.002488</td>\n",
       "      <td>-0.227183</td>\n",
       "      <td>91.806429</td>\n",
       "      <td>4662.970104</td>\n",
       "      <td>335.250119</td>\n",
       "    </tr>\n",
       "    <tr>\n",
       "      <th>4038</th>\n",
       "      <td>tau Cet e</td>\n",
       "      <td>tau Cet</td>\n",
       "      <td>162.87</td>\n",
       "      <td>0.538</td>\n",
       "      <td>NaN</td>\n",
       "      <td>0.180</td>\n",
       "      <td>3.930</td>\n",
       "      <td>1.81</td>\n",
       "      <td>26.009303</td>\n",
       "      <td>-15.933799</td>\n",
       "      <td>...</td>\n",
       "      <td>0.78</td>\n",
       "      <td>0.83</td>\n",
       "      <td>3.60304</td>\n",
       "      <td>3.24854</td>\n",
       "      <td>0.537288</td>\n",
       "      <td>1.001325</td>\n",
       "      <td>5.465195</td>\n",
       "      <td>0.485202</td>\n",
       "      <td>5273.054753</td>\n",
       "      <td>299.952071</td>\n",
       "    </tr>\n",
       "  </tbody>\n",
       "</table>\n",
       "<p>283 rows × 21 columns</p>\n",
       "</div>"
      ],
      "text/plain": [
       "        pl_name hostname  pl_orbper  pl_orbsmax  pl_orbincl  pl_orbeccen  \\\n",
       "6      24 Sex c   24 Sex     883.00       2.080         NaN        0.290   \n",
       "12      6 Lyn b    6 Lyn     934.30       2.110         NaN        0.073   \n",
       "15     61 Vir d   61 Vir     123.01       0.476         NaN        0.350   \n",
       "16      7 CMa b    7 CMa     735.10       1.758        90.0        0.060   \n",
       "17      7 CMa c    7 CMa     996.00       2.153        90.0        0.080   \n",
       "...         ...      ...        ...         ...         ...          ...   \n",
       "4019   YZ Cet c   YZ Cet       3.06       0.021         NaN        0.040   \n",
       "4022  bet Pic c  bet Pic    1200.00       2.700        90.0        0.240   \n",
       "4030  kap CrB b  kap CrB    1285.00       2.650        60.0        0.167   \n",
       "4033   nu Oph c   nu Oph    3184.83       5.931        90.0        0.180   \n",
       "4038  tau Cet e  tau Cet     162.87       0.538         NaN        0.180   \n",
       "\n",
       "      pl_bmasse  pl_rade          ra        dec  ...  st_mass  st_rad  \\\n",
       "6       273.320    13.90  155.868487  -0.902400  ...     1.54    4.90   \n",
       "12      638.838    13.40   97.696031  58.161175  ...     1.44    5.20   \n",
       "15       22.900     5.11  199.596455 -18.315774  ...     0.94    0.96   \n",
       "16      587.986    13.40   99.171276 -19.256181  ...     1.34    4.87   \n",
       "17      276.512    13.90   99.171276 -19.256181  ...     1.34    4.87   \n",
       "...         ...      ...         ...        ...  ...      ...     ...   \n",
       "4019      0.980     1.00   18.133079 -16.996243  ...     0.13    0.17   \n",
       "4022   2860.470    12.50   86.821234 -51.066148  ...     1.75    2.01   \n",
       "4030    635.660    13.40  237.808001  35.655882  ...     1.50    4.85   \n",
       "4033   7838.323    12.00  269.756601  -9.774134  ...     2.70   14.60   \n",
       "4038      3.930     1.81   26.009303 -15.933799  ...     0.78    0.83   \n",
       "\n",
       "       sy_dist  sy_gaiamag  semi_major_axis     ratio  \\\n",
       "6     72.06910     6.20374         2.080515  0.999753   \n",
       "12    54.65990     5.60686         2.113087  0.998539   \n",
       "15     8.50332     4.54052         0.474198  1.003800   \n",
       "16    19.81010     3.67853         1.758205  0.999883   \n",
       "17    19.81010     3.67853         2.152338  1.000308   \n",
       "...        ...         ...              ...       ...   \n",
       "4019   3.71207    10.42940         0.020897  1.004942   \n",
       "4022  19.74420     3.82015         2.667609  1.012142   \n",
       "4030  30.06510     4.52428         2.649087  1.000345   \n",
       "4033  46.21070     3.09653         5.916279  1.002488   \n",
       "4038   3.60304     3.24854         0.537288  1.001325   \n",
       "\n",
       "      absolute_magnitude_star  luminosity  star_temperature  \\\n",
       "6                    1.914995   12.764453       4914.997424   \n",
       "12                   1.918516   12.723121       4767.245636   \n",
       "15                   4.892577    0.822184       5594.063994   \n",
       "16                   2.194097    9.871004       4623.242125   \n",
       "17                   2.194097    9.871004       4623.242125   \n",
       "...                       ...         ...               ...   \n",
       "4019                12.581319    0.000691       2263.416113   \n",
       "4022                 2.342952    8.606352       6953.885370   \n",
       "4030                 2.133967   10.433098       4697.353478   \n",
       "4033                -0.227183   91.806429       4662.970104   \n",
       "4038                 5.465195    0.485202       5273.054753   \n",
       "\n",
       "      surface_temperature  \n",
       "6              345.215403  \n",
       "12             342.266744  \n",
       "15             364.281739  \n",
       "16             352.152355  \n",
       "17             318.280563  \n",
       "...                   ...  \n",
       "4019           295.463581  \n",
       "4022           276.260432  \n",
       "4030           290.890947  \n",
       "4033           335.250119  \n",
       "4038           299.952071  \n",
       "\n",
       "[283 rows x 21 columns]"
      ]
     },
     "execution_count": 170,
     "metadata": {},
     "output_type": "execute_result"
    }
   ],
   "source": [
    "habitable"
   ]
  },
  {
   "cell_type": "code",
   "execution_count": 171,
   "id": "6257b20b-1339-4cc9-8a32-4d55875b3483",
   "metadata": {},
   "outputs": [
    {
     "data": {
      "image/png": "[encoded data removed]",
      "text/plain": [
       "<Figure size 720x432 with 1 Axes>"
      ]
     },
     "metadata": {
      "needs_background": "light"
     },
     "output_type": "display_data"
    }
   ],
   "source": [
    "fig1 = plt.figure (figsize = (10,6))\n",
    "axis = fig1.add_subplot(1, 1, 1)\n",
    "\n",
    "plt.scatter (habitable['sy_dist'], habitable['pl_bmasse'], color = 'black', s = 10, alpha = 1.0, cmap='viridis', label = 'Habitable exoplanets')\n",
    "\n",
    "axis.set_xlabel ('Distance from Earth / parsecs')\n",
    "axis.set_ylabel ('Planet mass / Earth masses')\n",
    "\n",
    "axis.set_yscale ('log')\n",
    "axis.set_xscale ('log')\n",
    "\n",
    "axis.legend()\n",
    "plt.show()"
   ]
  },
  {
   "cell_type": "markdown",
   "id": "090316a3-5e1a-4365-953f-add9843d5eea",
   "metadata": {},
   "source": [
    "**Figure 2:**  Plot of planet mass (in Earth masses) against distance from Earth (in parsecs) for all 'habitable' exoplanets."
   ]
  },
  {
   "cell_type": "code",
   "execution_count": 172,
   "id": "967db8fe-21e6-48af-8539-635709a16975",
   "metadata": {},
   "outputs": [
    {
     "data": {
      "image/png": "[encoded data removed]",
      "text/plain": [
       "<Figure size 720x432 with 1 Axes>"
      ]
     },
     "metadata": {
      "needs_background": "light"
     },
     "output_type": "display_data"
    }
   ],
   "source": [
    "fig1 = plt.figure (figsize = (10,6))\n",
    "axis = fig1.add_subplot(1, 1, 1)\n",
    "\n",
    "plt.scatter (merged_data['sy_dist'], merged_data['pl_bmasse'], color = 'pink', s = 8, alpha = 1.0, cmap='viridis', label = 'Uninhabitable')\n",
    "plt.scatter (habitable['sy_dist'], habitable['pl_bmasse'], color = 'black', s = 8, alpha = 1.0, cmap='viridis', label = 'Habitable')\n",
    "\n",
    "axis.set_xlabel ('Distance from Earth / parsecs')\n",
    "axis.set_ylabel ('Planet mass / Earth masses')\n",
    "\n",
    "axis.set_yscale ('log')\n",
    "axis.set_xscale ('log')\n",
    "\n",
    "axis.legend()\n",
    "plt.show()"
   ]
  },
  {
   "cell_type": "markdown",
   "id": "4cf386c8-0824-454b-9acb-33a578928a0e",
   "metadata": {},
   "source": [
    "**Figure 3:**  Plot of planet mass (in Earth masses) against distance from Earth (in parsecs) for all 'habitable' and 'non-habitable' exoplanets."
   ]
  },
  {
   "cell_type": "markdown",
   "id": "ab2c2af0",
   "metadata": {},
   "source": [
    "Distance from Earth is a useful data category to look at. Closer planets to Earth will be easier to get too, making those planets a more viable option to move too should we ever leave Earth. The mass of a planet is important to know as it influences the climate. Heavier planets will have a stronger greenhouse effect. Since in **Figure 3** planet mass is plotted in 'Earth masses', a value close to 1 would be the most suitable for humans as the conditions would be the most similar."
   ]
  },
  {
   "cell_type": "markdown",
   "id": "9e88080e-4228-4176-bf24-6ebcf7d55822",
   "metadata": {},
   "source": [
    "### **<u>Results and conclusions</u>**"
   ]
  },
  {
   "cell_type": "markdown",
   "id": "ef6fa71c-eed6-4f4d-bbcf-42e998263703",
   "metadata": {},
   "source": [
    "Of the 3936 planets investigated, 283 have been deemed habitable on the basis that they lie within an accepted range of temperatures in which liquid water could exist on the surface of the planet.. In reality, more  variables are required to be looked at to determine whether a planet can be lived on. Examples of this are atmospheric pressure and the amount of carbon dioxide in the atmosphere. Therefore, the true amount of habitable exoplanets will be less than 283."
   ]
  },
  {
   "cell_type": "markdown",
   "id": "af022817",
   "metadata": {},
   "source": [
    "In four billion years, the increase in Earth's surface temperature will cause a runaway greenhouse effect, creating conditions more extreme than present-day Venus and heating Earth's surface enough to melt it. By that point, all life on Earth will be extinct. In order for the human race to survive, we will have to move to a new planet, this report has identified some planets we could possibly try move too in the future."
   ]
  }
 ],
 "metadata": {
  "kernelspec": {
   "display_name": "Python 3 (ipykernel)",
   "language": "python",
   "name": "python3"
  },
  "language_info": {
   "codemirror_mode": {
    "name": "ipython",
    "version": 3
   },
   "file_extension": ".py",
   "mimetype": "text/x-python",
   "name": "python",
   "nbconvert_exporter": "python",
   "pygments_lexer": "ipython3",
   "version": "3.9.7"
  }
 },
 "nbformat": 4,
 "nbformat_minor": 5
}
